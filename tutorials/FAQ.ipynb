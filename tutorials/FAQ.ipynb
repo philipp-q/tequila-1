{
 "cells": [
  {
   "cell_type": "markdown",
   "metadata": {},
   "source": [
    "# Frequently Asked Questions:\n",
    "\n",
    "### It is recommended to take a look at the `BasicUsage` notebook before looking at this"
   ]
  },
  {
   "cell_type": "code",
   "execution_count": 1,
   "metadata": {},
   "outputs": [
    {
     "name": "stdout",
     "output_type": "stream",
     "text": [
      "running build_ext\n",
      "skipping '/Users/sumneralperin-lea/.pyxbld/temp.macosx-10.9-x86_64-3.6/pyrex/BayesianNetwork/kernel_prob_reshaping.cpp' Cython extension (up-to-date)\n",
      "skipping 'BayesianNetwork.kernel_prob_reshaping' extension (up-to-date)\n",
      "running build_ext\n",
      "skipping '/Users/sumneralperin-lea/.pyxbld/temp.macosx-10.9-x86_64-3.6/pyrex/BayesianNetwork/kernel_evaluations.cpp' Cython extension (up-to-date)\n",
      "skipping 'BayesianNetwork.kernel_evaluations' extension (up-to-date)\n"
     ]
    }
   ],
   "source": [
    "import tequila as tq\n",
    "import numpy"
   ]
  },
  {
   "cell_type": "markdown",
   "metadata": {},
   "source": [
    "# Which optimization methods can I use?\n",
    "\n",
    "`tq.show_available_optimizers` shows you all installed modules no your systems and the methods which `tq.minimize` understands. Method names are not case sensitive when passed to `tq.minimize`.  \n",
    "\n",
    "In the end you see which modules are supported and which of them are actually installed on your system.  \n",
    "The table with methods and modules will only show you the methods for modules that are currently installed within your environment.  \n",
    "\n",
    "Of course you can also use tequila objectives for your own optimizers.  \n",
    "You don't need to use the modules here."
   ]
  },
  {
   "cell_type": "code",
   "execution_count": 2,
   "metadata": {},
   "outputs": [
    {
     "name": "stdout",
     "output_type": "stream",
     "text": [
      "available methods for optimizer modules found on your system:\n",
      "method               | optimizer module\n",
      "--------------------------\n",
      "NELDER-MEAD          | scipy\n",
      "COBYLA               | scipy\n",
      "POWELL               | scipy\n",
      "SLSQP                | scipy\n",
      "L-BFGS-B             | scipy\n",
      "BFGS                 | scipy\n",
      "CG                   | scipy\n",
      "TNC                  | scipy\n",
      "TRUST-KRYLOV         | scipy\n",
      "NEWTON-CG            | scipy\n",
      "DOGLEG               | scipy\n",
      "TRUST-NCG            | scipy\n",
      "TRUST-EXACT          | scipy\n",
      "TRUST-CONSTR         | scipy\n",
      "adam                 | gd\n",
      "adagrad              | gd\n",
      "adamax               | gd\n",
      "nadam                | gd\n",
      "sgd                  | gd\n",
      "momentum             | gd\n",
      "nesterov             | gd\n",
      "rmsprop              | gd\n",
      "rmsprop-nesterov     | gd\n",
      "lbfgs                | gpyopt\n",
      "direct               | gpyopt\n",
      "cma                  | gpyopt\n",
      "phoenics             | phoenics\n",
      "Supported optimizer modules:  ['scipy', 'phoenics', 'gpyopt', 'gd']\n",
      "Installed optimizer modules:  ['scipy', 'gd', 'gpyopt', 'phoenics']\n"
     ]
    }
   ],
   "source": [
    "tq.show_available_optimizers()"
   ]
  },
  {
   "cell_type": "markdown",
   "metadata": {},
   "source": [
    "# Which simulators/Quantum-Backends can I use?\n",
    "\n",
    "`tq.show_available_simulators` shows all simulators/quantum backends which are supported by tequila as well as which are installed within your current environment.  \n",
    "\n",
    "The default choice if you don't specify a backend when for example simulating a tequila objective with `tq.simulate` is the first entry of the supported backends which is installed on your system."
   ]
  },
  {
   "cell_type": "code",
   "execution_count": 3,
   "metadata": {},
   "outputs": [
    {
     "name": "stdout",
     "output_type": "stream",
     "text": [
      "backend         | wfn        | sampling   | noise      | devices    | installed \n",
      "--------------------------------------------------------------------\n",
      "qulacs          | True       | True       | True       | False      | True      \n",
      "qiskit          | True       | True       | True       | True       | True      \n",
      "cirq            | True       | True       | True       | True       | True      \n",
      "pyquil          | True       | True       | True       | True       | True      \n",
      "symbolic        | True       | False      | False      | False      | True      \n"
     ]
    }
   ],
   "source": [
    "tq.show_available_simulators()"
   ]
  },
  {
   "cell_type": "markdown",
   "metadata": {},
   "source": [
    "# Can I avoid re-translation/compilation on my objectives/circuits?\n",
    "\n",
    "Yes you can. By calling `tq.compile` instead of `tq.simulate`.\n",
    "This will give you back a callable objective.  \n",
    "Check also the `basic usage` tutorial notebook"
   ]
  },
  {
   "cell_type": "code",
   "execution_count": 4,
   "metadata": {},
   "outputs": [
    {
     "name": "stdout",
     "output_type": "stream",
     "text": [
      "+0.7071|00> +0.6205|01> -0.3390i|11> \n",
      "+0.7071|00> +0.3821|01> -0.5950i|11> \n",
      "compiled circuit: <tequila.simulators.simulator_qulacs.BackendCircuitQulacs object at 0x130f8b400>\n",
      "+0.7071|00> +0.6205|01> -0.3390i|11> \n",
      "+0.7071|00> +0.3821|01> -0.5950i|11> \n",
      "compiled objective: Objective with 1 unique expectation values\n",
      "variables = [a]\n",
      "types     = not compiled\n",
      "1.1770184\n",
      "1.2067055\n",
      "compiled objective: Objective with 1 unique expectation values\n",
      "variables = [a]\n",
      "types     = [<class 'tequila.simulators.simulator_qulacs.BackendExpectationValueQulacs'>]\n",
      "1.1770184\n",
      "1.2067055\n"
     ]
    }
   ],
   "source": [
    "U = tq.gates.H(target=1) + tq.gates.Rx(angle=\"a\", target=0, control=1)\n",
    "\n",
    "# simulate the wavefunction with different variables\n",
    "wfn0 = tq.simulate(U, variables={\"a\": 1.0})\n",
    "wfn1 = tq.simulate(U, variables={\"a\": 2.0})\n",
    "\n",
    "print(wfn0)\n",
    "print(wfn1)\n",
    "\n",
    "# the same, but avoiding re-compilation\n",
    "# Note that your compiled object is translated to a quantum backend\n",
    "# if the backend was not set, tequila it will pick the default which depends\n",
    "# on which backends you have installed. You will seee it in the printout of the\n",
    "# compiled circuits\n",
    "compiled_U = tq.compile(U)\n",
    "wfn0 = compiled_U(variables={\"a\":1.0})\n",
    "wfn1 = compiled_U(variables={\"a\":2.0})\n",
    "\n",
    "print(\"compiled circuit:\", compiled_U)\n",
    "print(wfn0)\n",
    "print(wfn1)\n",
    "\n",
    "\n",
    "# With Objectives it works in the same way\n",
    "H = tq.paulis.Y(0)\n",
    "E = tq.ExpectationValue(H=H, U=U)\n",
    "objective = E**2 + 1.0\n",
    "\n",
    "# simulate the objective with different variables\n",
    "result0 = tq.simulate(objective, variables={\"a\": 1.0})\n",
    "result1 = tq.simulate(objective, variables={\"a\": 2.0})\n",
    "\n",
    "print(\"compiled objective:\", objective)\n",
    "print(result0)\n",
    "print(result1)\n",
    "\n",
    "# compile and then simulate\n",
    "compiled_objective = tq.compile(objective)\n",
    "result0 = compiled_objective(variables={\"a\":1.0})\n",
    "result1 = compiled_objective(variables={\"a\":2.0})\n",
    "\n",
    "print(\"compiled objective:\", compiled_objective)\n",
    "print(result0)\n",
    "print(result1)"
   ]
  },
  {
   "cell_type": "markdown",
   "metadata": {},
   "source": [
    "# how can I run on a real quantum computer?\n",
    "Tequila can both emulate -- and when possible, operate via -- real quantum devices.\n",
    "For example:\n",
    "IBM's Qiskit can be used to run on some of IBM's public accessible quantum computers.\n",
    "All you need for this is an ibm account (Follow the instructions under \"Configure your IBM Quantum Experience credentials\" here: https://github.com/Qiskit/qiskit-ibmq-provider).  \n",
    "Tequila also supports Rigetti's PyQuil and Google's Cirq, but currently there are no publicly available devices.\n",
    "\n",
    "Here is a small  example with Qiskit (you need to have qiskit installed, and an activaged IBMQ account for this).\n",
    "Alternatively you can also externally initialize your chosen device, and pass this down instead of a string.\n",
    "\n",
    "You always need to set samples if you intend to run on a real (or emulated) backend."
   ]
  },
  {
   "cell_type": "code",
   "execution_count": 5,
   "metadata": {},
   "outputs": [
    {
     "name": "stdout",
     "output_type": "stream",
     "text": [
      "Warning: could not get the desired backend from any IBMQ account. Attempting to retrieve a fake.\n"
     ]
    },
    {
     "ename": "TequilaException",
     "evalue": "Requested backend could not be obtained!",
     "output_type": "error",
     "traceback": [
      "\u001b[0;31m---------------------------------------------------------------------------\u001b[0m",
      "\u001b[0;31mIBMQAccountCredentialsNotFound\u001b[0m            Traceback (most recent call last)",
      "\u001b[0;32m~/science_git/Tequila/src/tequila/simulators/simulator_qiskit.py\u001b[0m in \u001b[0;36mget_backend\u001b[0;34m(self, device, samples, *args, **kwargs)\u001b[0m\n\u001b[1;32m    236\u001b[0m                     \u001b[0;32mif\u001b[0m \u001b[0mqiskit\u001b[0m\u001b[0;34m.\u001b[0m\u001b[0mIBMQ\u001b[0m\u001b[0;34m.\u001b[0m\u001b[0mactive_account\u001b[0m\u001b[0;34m(\u001b[0m\u001b[0;34m)\u001b[0m \u001b[0;32mis\u001b[0m \u001b[0;32mNone\u001b[0m\u001b[0;34m:\u001b[0m\u001b[0;34m\u001b[0m\u001b[0;34m\u001b[0m\u001b[0m\n\u001b[0;32m--> 237\u001b[0;31m                         \u001b[0mqiskit\u001b[0m\u001b[0;34m.\u001b[0m\u001b[0mIBMQ\u001b[0m\u001b[0;34m.\u001b[0m\u001b[0mload_account\u001b[0m\u001b[0;34m(\u001b[0m\u001b[0;34m)\u001b[0m\u001b[0;34m\u001b[0m\u001b[0;34m\u001b[0m\u001b[0m\n\u001b[0m\u001b[1;32m    238\u001b[0m                     \u001b[0mqiskit_provider\u001b[0m \u001b[0;34m=\u001b[0m \u001b[0mqiskit\u001b[0m\u001b[0;34m.\u001b[0m\u001b[0mIBMQ\u001b[0m\u001b[0;34m.\u001b[0m\u001b[0mget_provider\u001b[0m\u001b[0;34m(\u001b[0m\u001b[0;34m)\u001b[0m\u001b[0;34m\u001b[0m\u001b[0;34m\u001b[0m\u001b[0m\n",
      "\u001b[0;32m~/anaconda3/envs/quantum/lib/python3.6/site-packages/qiskit/providers/ibmq/ibmqfactory.py\u001b[0m in \u001b[0;36mload_account\u001b[0;34m(self)\u001b[0m\n\u001b[1;32m    169\u001b[0m             raise IBMQAccountCredentialsNotFound(\n\u001b[0;32m--> 170\u001b[0;31m                 'No IBM Quantum Experience credentials found.')\n\u001b[0m\u001b[1;32m    171\u001b[0m \u001b[0;34m\u001b[0m\u001b[0m\n",
      "\u001b[0;31mIBMQAccountCredentialsNotFound\u001b[0m: 'No IBM Quantum Experience credentials found.'",
      "\nDuring handling of the above exception, another exception occurred:\n",
      "\u001b[0;31mTequilaException\u001b[0m                          Traceback (most recent call last)",
      "\u001b[0;32m<ipython-input-5-d7902dcbbf7a>\u001b[0m in \u001b[0;36m<module>\u001b[0;34m()\u001b[0m\n\u001b[1;32m      9\u001b[0m \u001b[0;31m# note that the names of the computer might have changed\u001b[0m\u001b[0;34m\u001b[0m\u001b[0;34m\u001b[0m\u001b[0;34m\u001b[0m\u001b[0m\n\u001b[1;32m     10\u001b[0m \u001b[0;31m# here we use the 1-Qubit 'ibmq_armonk'\u001b[0m\u001b[0;34m\u001b[0m\u001b[0;34m\u001b[0m\u001b[0;34m\u001b[0m\u001b[0m\n\u001b[0;32m---> 11\u001b[0;31m \u001b[0mresult\u001b[0m \u001b[0;34m=\u001b[0m \u001b[0mtq\u001b[0m\u001b[0;34m.\u001b[0m\u001b[0msimulate\u001b[0m\u001b[0;34m(\u001b[0m\u001b[0mE\u001b[0m\u001b[0;34m**\u001b[0m\u001b[0;36m2\u001b[0m\u001b[0;34m,\u001b[0m \u001b[0mvariables\u001b[0m\u001b[0;34m=\u001b[0m\u001b[0;34m{\u001b[0m\u001b[0;34m\"a\"\u001b[0m\u001b[0;34m:\u001b[0m\u001b[0;36m1.0\u001b[0m\u001b[0;34m}\u001b[0m\u001b[0;34m,\u001b[0m \u001b[0msamples\u001b[0m\u001b[0;34m=\u001b[0m\u001b[0;36m1000\u001b[0m\u001b[0;34m,\u001b[0m \u001b[0mbackend\u001b[0m\u001b[0;34m=\u001b[0m\u001b[0;34m\"qiskit\"\u001b[0m\u001b[0;34m,\u001b[0m \u001b[0mdevice\u001b[0m\u001b[0;34m=\u001b[0m\u001b[0;34m\"ibmq_armonk\"\u001b[0m\u001b[0;34m)\u001b[0m\u001b[0;34m\u001b[0m\u001b[0;34m\u001b[0m\u001b[0m\n\u001b[0m\u001b[1;32m     12\u001b[0m \u001b[0mresult\u001b[0m \u001b[0;34m=\u001b[0m \u001b[0mtq\u001b[0m\u001b[0;34m.\u001b[0m\u001b[0moptimizer_scipy\u001b[0m\u001b[0;34m.\u001b[0m\u001b[0mminimize\u001b[0m\u001b[0;34m(\u001b[0m\u001b[0mE\u001b[0m\u001b[0;34m**\u001b[0m\u001b[0;36m2\u001b[0m\u001b[0;34m,\u001b[0m \u001b[0minitial_values\u001b[0m\u001b[0;34m=\u001b[0m\u001b[0;34m{\u001b[0m\u001b[0;34m\"a\"\u001b[0m\u001b[0;34m:\u001b[0m\u001b[0;36m1.0\u001b[0m\u001b[0;34m}\u001b[0m\u001b[0;34m,\u001b[0m \u001b[0msamples\u001b[0m\u001b[0;34m=\u001b[0m\u001b[0;36m1000\u001b[0m\u001b[0;34m,\u001b[0m \u001b[0mbackend\u001b[0m\u001b[0;34m=\u001b[0m\u001b[0;34m\"qiskit\"\u001b[0m\u001b[0;34m,\u001b[0m \u001b[0mdevice\u001b[0m\u001b[0;34m=\u001b[0m\u001b[0;34m'ibmq_armonk'\u001b[0m\u001b[0;34m)\u001b[0m\u001b[0;34m\u001b[0m\u001b[0;34m\u001b[0m\u001b[0m\n",
      "\u001b[0;32m~/science_git/Tequila/src/tequila/simulators/simulator_api.py\u001b[0m in \u001b[0;36msimulate\u001b[0;34m(objective, variables, samples, backend, noise, device, *args, **kwargs)\u001b[0m\n\u001b[1;32m    348\u001b[0m \u001b[0;34m\u001b[0m\u001b[0m\n\u001b[1;32m    349\u001b[0m     compiled_objective = compile(objective=objective, samples=samples, variables=variables, backend=backend,\n\u001b[0;32m--> 350\u001b[0;31m                                  noise=noise,device=device, *args, **kwargs)\n\u001b[0m\u001b[1;32m    351\u001b[0m \u001b[0;34m\u001b[0m\u001b[0m\n\u001b[1;32m    352\u001b[0m     \u001b[0;32mreturn\u001b[0m \u001b[0mcompiled_objective\u001b[0m\u001b[0;34m(\u001b[0m\u001b[0mvariables\u001b[0m\u001b[0;34m=\u001b[0m\u001b[0mvariables\u001b[0m\u001b[0;34m,\u001b[0m \u001b[0msamples\u001b[0m\u001b[0;34m=\u001b[0m\u001b[0msamples\u001b[0m\u001b[0;34m,\u001b[0m \u001b[0;34m*\u001b[0m\u001b[0margs\u001b[0m\u001b[0;34m,\u001b[0m \u001b[0;34m**\u001b[0m\u001b[0mkwargs\u001b[0m\u001b[0;34m)\u001b[0m\u001b[0;34m\u001b[0m\u001b[0;34m\u001b[0m\u001b[0m\n",
      "\u001b[0;32m~/science_git/Tequila/src/tequila/simulators/simulator_api.py\u001b[0m in \u001b[0;36mcompile\u001b[0;34m(objective, variables, samples, backend, noise, device, *args, **kwargs)\u001b[0m\n\u001b[1;32m    445\u001b[0m \u001b[0;34m\u001b[0m\u001b[0m\n\u001b[1;32m    446\u001b[0m     \u001b[0;32mif\u001b[0m \u001b[0misinstance\u001b[0m\u001b[0;34m(\u001b[0m\u001b[0mobjective\u001b[0m\u001b[0;34m,\u001b[0m \u001b[0mObjective\u001b[0m\u001b[0;34m)\u001b[0m \u001b[0;32mor\u001b[0m \u001b[0mhasattr\u001b[0m\u001b[0;34m(\u001b[0m\u001b[0mobjective\u001b[0m\u001b[0;34m,\u001b[0m \u001b[0;34m\"args\"\u001b[0m\u001b[0;34m)\u001b[0m\u001b[0;34m:\u001b[0m\u001b[0;34m\u001b[0m\u001b[0;34m\u001b[0m\u001b[0m\n\u001b[0;32m--> 447\u001b[0;31m         \u001b[0;32mreturn\u001b[0m \u001b[0mcompile_objective\u001b[0m\u001b[0;34m(\u001b[0m\u001b[0mobjective\u001b[0m\u001b[0;34m=\u001b[0m\u001b[0mobjective\u001b[0m\u001b[0;34m,\u001b[0m \u001b[0mvariables\u001b[0m\u001b[0;34m=\u001b[0m\u001b[0mvariables\u001b[0m\u001b[0;34m,\u001b[0m \u001b[0mbackend\u001b[0m\u001b[0;34m=\u001b[0m\u001b[0mbackend\u001b[0m\u001b[0;34m,\u001b[0m \u001b[0mnoise\u001b[0m\u001b[0;34m=\u001b[0m\u001b[0mnoise\u001b[0m\u001b[0;34m,\u001b[0m \u001b[0mdevice\u001b[0m\u001b[0;34m=\u001b[0m\u001b[0mdevice\u001b[0m\u001b[0;34m)\u001b[0m\u001b[0;34m\u001b[0m\u001b[0;34m\u001b[0m\u001b[0m\n\u001b[0m\u001b[1;32m    448\u001b[0m     \u001b[0;32melif\u001b[0m \u001b[0mhasattr\u001b[0m\u001b[0;34m(\u001b[0m\u001b[0mobjective\u001b[0m\u001b[0;34m,\u001b[0m \u001b[0;34m\"gates\"\u001b[0m\u001b[0;34m)\u001b[0m \u001b[0;32mor\u001b[0m \u001b[0mhasattr\u001b[0m\u001b[0;34m(\u001b[0m\u001b[0mobjective\u001b[0m\u001b[0;34m,\u001b[0m \u001b[0;34m\"abstract_circuit\"\u001b[0m\u001b[0;34m)\u001b[0m\u001b[0;34m:\u001b[0m\u001b[0;34m\u001b[0m\u001b[0;34m\u001b[0m\u001b[0m\n\u001b[1;32m    449\u001b[0m         return compile_circuit(abstract_circuit=objective, variables=variables, backend=backend,\n",
      "\u001b[0;32m~/science_git/Tequila/src/tequila/simulators/simulator_api.py\u001b[0m in \u001b[0;36mcompile_objective\u001b[0;34m(objective, variables, backend, samples, device, noise, *args, **kwargs)\u001b[0m\n\u001b[1;32m    255\u001b[0m         \u001b[0;32mif\u001b[0m \u001b[0mhasattr\u001b[0m\u001b[0;34m(\u001b[0m\u001b[0marg\u001b[0m\u001b[0;34m,\u001b[0m \u001b[0;34m\"H\"\u001b[0m\u001b[0;34m)\u001b[0m \u001b[0;32mand\u001b[0m \u001b[0mhasattr\u001b[0m\u001b[0;34m(\u001b[0m\u001b[0marg\u001b[0m\u001b[0;34m,\u001b[0m \u001b[0;34m\"U\"\u001b[0m\u001b[0;34m)\u001b[0m \u001b[0;32mand\u001b[0m \u001b[0;32mnot\u001b[0m \u001b[0misinstance\u001b[0m\u001b[0;34m(\u001b[0m\u001b[0marg\u001b[0m\u001b[0;34m,\u001b[0m \u001b[0mBackendExpectationValue\u001b[0m\u001b[0;34m)\u001b[0m\u001b[0;34m:\u001b[0m\u001b[0;34m\u001b[0m\u001b[0;34m\u001b[0m\u001b[0m\n\u001b[1;32m    256\u001b[0m             \u001b[0;32mif\u001b[0m \u001b[0marg\u001b[0m \u001b[0;32mnot\u001b[0m \u001b[0;32min\u001b[0m \u001b[0mexpectationvalues\u001b[0m\u001b[0;34m:\u001b[0m\u001b[0;34m\u001b[0m\u001b[0;34m\u001b[0m\u001b[0m\n\u001b[0;32m--> 257\u001b[0;31m                 \u001b[0mcompiled_expval\u001b[0m \u001b[0;34m=\u001b[0m \u001b[0mExpValueType\u001b[0m\u001b[0;34m(\u001b[0m\u001b[0marg\u001b[0m\u001b[0;34m,\u001b[0m \u001b[0mvariables\u001b[0m\u001b[0;34m,\u001b[0m \u001b[0mnoise\u001b[0m\u001b[0;34m,\u001b[0m \u001b[0mdevice\u001b[0m\u001b[0;34m)\u001b[0m\u001b[0;34m\u001b[0m\u001b[0;34m\u001b[0m\u001b[0m\n\u001b[0m\u001b[1;32m    258\u001b[0m                 \u001b[0mexpectationvalues\u001b[0m\u001b[0;34m[\u001b[0m\u001b[0marg\u001b[0m\u001b[0;34m]\u001b[0m \u001b[0;34m=\u001b[0m \u001b[0mcompiled_expval\u001b[0m\u001b[0;34m\u001b[0m\u001b[0;34m\u001b[0m\u001b[0m\n\u001b[1;32m    259\u001b[0m             \u001b[0;32melse\u001b[0m\u001b[0;34m:\u001b[0m\u001b[0;34m\u001b[0m\u001b[0;34m\u001b[0m\u001b[0m\n",
      "\u001b[0;32m~/science_git/Tequila/src/tequila/simulators/simulator_base.py\u001b[0m in \u001b[0;36m__init__\u001b[0;34m(self, E, variables, noise, device)\u001b[0m\n\u001b[1;32m    297\u001b[0m \u001b[0;34m\u001b[0m\u001b[0m\n\u001b[1;32m    298\u001b[0m     \u001b[0;32mdef\u001b[0m \u001b[0m__init__\u001b[0m\u001b[0;34m(\u001b[0m\u001b[0mself\u001b[0m\u001b[0;34m,\u001b[0m \u001b[0mE\u001b[0m\u001b[0;34m,\u001b[0m \u001b[0mvariables\u001b[0m\u001b[0;34m,\u001b[0m \u001b[0mnoise\u001b[0m\u001b[0;34m,\u001b[0m \u001b[0mdevice\u001b[0m\u001b[0;34m)\u001b[0m\u001b[0;34m:\u001b[0m\u001b[0;34m\u001b[0m\u001b[0;34m\u001b[0m\u001b[0m\n\u001b[0;32m--> 299\u001b[0;31m         \u001b[0mself\u001b[0m\u001b[0;34m.\u001b[0m\u001b[0m_U\u001b[0m \u001b[0;34m=\u001b[0m \u001b[0mself\u001b[0m\u001b[0;34m.\u001b[0m\u001b[0minitialize_unitary\u001b[0m\u001b[0;34m(\u001b[0m\u001b[0mE\u001b[0m\u001b[0;34m.\u001b[0m\u001b[0mU\u001b[0m\u001b[0;34m,\u001b[0m \u001b[0mvariables\u001b[0m\u001b[0;34m,\u001b[0m \u001b[0mnoise\u001b[0m\u001b[0;34m,\u001b[0m \u001b[0mdevice\u001b[0m\u001b[0;34m)\u001b[0m\u001b[0;34m\u001b[0m\u001b[0;34m\u001b[0m\u001b[0m\n\u001b[0m\u001b[1;32m    300\u001b[0m         \u001b[0mself\u001b[0m\u001b[0;34m.\u001b[0m\u001b[0m_H\u001b[0m \u001b[0;34m=\u001b[0m \u001b[0mself\u001b[0m\u001b[0;34m.\u001b[0m\u001b[0minitialize_hamiltonian\u001b[0m\u001b[0;34m(\u001b[0m\u001b[0mE\u001b[0m\u001b[0;34m.\u001b[0m\u001b[0mH\u001b[0m\u001b[0;34m)\u001b[0m\u001b[0;34m\u001b[0m\u001b[0;34m\u001b[0m\u001b[0m\n\u001b[1;32m    301\u001b[0m         \u001b[0mself\u001b[0m\u001b[0;34m.\u001b[0m\u001b[0m_abstract_hamiltonians\u001b[0m \u001b[0;34m=\u001b[0m \u001b[0mE\u001b[0m\u001b[0;34m.\u001b[0m\u001b[0mH\u001b[0m\u001b[0;34m\u001b[0m\u001b[0;34m\u001b[0m\u001b[0m\n",
      "\u001b[0;32m~/science_git/Tequila/src/tequila/simulators/simulator_base.py\u001b[0m in \u001b[0;36minitialize_unitary\u001b[0;34m(self, U, variables, noise, device)\u001b[0m\n\u001b[1;32m    334\u001b[0m     \u001b[0;32mdef\u001b[0m \u001b[0minitialize_unitary\u001b[0m\u001b[0;34m(\u001b[0m\u001b[0mself\u001b[0m\u001b[0;34m,\u001b[0m \u001b[0mU\u001b[0m\u001b[0;34m,\u001b[0m \u001b[0mvariables\u001b[0m\u001b[0;34m,\u001b[0m \u001b[0mnoise\u001b[0m\u001b[0;34m,\u001b[0m \u001b[0mdevice\u001b[0m\u001b[0;34m)\u001b[0m\u001b[0;34m:\u001b[0m\u001b[0;34m\u001b[0m\u001b[0;34m\u001b[0m\u001b[0m\n\u001b[1;32m    335\u001b[0m         return self.BackendCircuitType(abstract_circuit=U, variables=variables, device=device, use_mapping=self.use_mapping,\n\u001b[0;32m--> 336\u001b[0;31m                                        noise=noise)\n\u001b[0m\u001b[1;32m    337\u001b[0m \u001b[0;34m\u001b[0m\u001b[0m\n\u001b[1;32m    338\u001b[0m     \u001b[0;32mdef\u001b[0m \u001b[0mupdate_variables\u001b[0m\u001b[0;34m(\u001b[0m\u001b[0mself\u001b[0m\u001b[0;34m,\u001b[0m \u001b[0mvariables\u001b[0m\u001b[0;34m)\u001b[0m\u001b[0;34m:\u001b[0m\u001b[0;34m\u001b[0m\u001b[0;34m\u001b[0m\u001b[0m\n",
      "\u001b[0;32m~/science_git/Tequila/src/tequila/simulators/simulator_qiskit.py\u001b[0m in \u001b[0;36m__init__\u001b[0;34m(self, abstract_circuit, variables, use_mapping, noise, device, *args, **kwargs)\u001b[0m\n\u001b[1;32m    149\u001b[0m             }\n\u001b[1;32m    150\u001b[0m         \u001b[0;32mif\u001b[0m \u001b[0mdevice\u001b[0m \u001b[0;32mis\u001b[0m \u001b[0;32mnot\u001b[0m \u001b[0;32mNone\u001b[0m\u001b[0;34m:\u001b[0m\u001b[0;34m\u001b[0m\u001b[0;34m\u001b[0m\u001b[0m\n\u001b[0;32m--> 151\u001b[0;31m             \u001b[0mself\u001b[0m\u001b[0;34m.\u001b[0m\u001b[0mdevice\u001b[0m\u001b[0;34m=\u001b[0m\u001b[0mself\u001b[0m\u001b[0;34m.\u001b[0m\u001b[0mget_backend\u001b[0m\u001b[0;34m(\u001b[0m\u001b[0mdevice\u001b[0m\u001b[0;34m)\u001b[0m\u001b[0;34m\u001b[0m\u001b[0;34m\u001b[0m\u001b[0m\n\u001b[0m\u001b[1;32m    152\u001b[0m         \u001b[0;32melse\u001b[0m\u001b[0;34m:\u001b[0m\u001b[0;34m\u001b[0m\u001b[0;34m\u001b[0m\u001b[0m\n\u001b[1;32m    153\u001b[0m             \u001b[0mself\u001b[0m\u001b[0;34m.\u001b[0m\u001b[0mdevice\u001b[0m\u001b[0;34m=\u001b[0m\u001b[0;32mNone\u001b[0m\u001b[0;34m\u001b[0m\u001b[0;34m\u001b[0m\u001b[0m\n",
      "\u001b[0;32m~/science_git/Tequila/src/tequila/simulators/simulator_qiskit.py\u001b[0m in \u001b[0;36mget_backend\u001b[0;34m(self, device, samples, *args, **kwargs)\u001b[0m\n\u001b[1;32m    240\u001b[0m                 \u001b[0;32mexcept\u001b[0m\u001b[0;34m:\u001b[0m\u001b[0;34m\u001b[0m\u001b[0;34m\u001b[0m\u001b[0m\n\u001b[1;32m    241\u001b[0m                     \u001b[0mprint\u001b[0m\u001b[0;34m(\u001b[0m\u001b[0;34m'Warning: could not get the desired backend from any IBMQ account. Attempting to retrieve a fake.'\u001b[0m\u001b[0;34m)\u001b[0m\u001b[0;34m\u001b[0m\u001b[0;34m\u001b[0m\u001b[0m\n\u001b[0;32m--> 242\u001b[0;31m                     \u001b[0;32mreturn\u001b[0m \u001b[0mself\u001b[0m\u001b[0;34m.\u001b[0m\u001b[0mget_backend\u001b[0m\u001b[0;34m(\u001b[0m\u001b[0mdevice\u001b[0m\u001b[0;34m=\u001b[0m\u001b[0;34m'fake_'\u001b[0m\u001b[0;34m+\u001b[0m\u001b[0md\u001b[0m\u001b[0;34m,\u001b[0m\u001b[0msamples\u001b[0m\u001b[0;34m=\u001b[0m\u001b[0msamples\u001b[0m\u001b[0;34m)\u001b[0m\u001b[0;34m\u001b[0m\u001b[0;34m\u001b[0m\u001b[0m\n\u001b[0m\u001b[1;32m    243\u001b[0m \u001b[0;34m\u001b[0m\u001b[0m\n\u001b[1;32m    244\u001b[0m     \u001b[0;32mdef\u001b[0m \u001b[0mdo_sample\u001b[0m\u001b[0;34m(\u001b[0m\u001b[0mself\u001b[0m\u001b[0;34m,\u001b[0m \u001b[0mcircuit\u001b[0m\u001b[0;34m:\u001b[0m \u001b[0mqiskit\u001b[0m\u001b[0;34m.\u001b[0m\u001b[0mQuantumCircuit\u001b[0m\u001b[0;34m,\u001b[0m \u001b[0msamples\u001b[0m\u001b[0;34m:\u001b[0m \u001b[0mint\u001b[0m\u001b[0;34m,\u001b[0m \u001b[0;34m*\u001b[0m\u001b[0margs\u001b[0m\u001b[0;34m,\u001b[0m \u001b[0;34m**\u001b[0m\u001b[0mkwargs\u001b[0m\u001b[0;34m)\u001b[0m \u001b[0;34m->\u001b[0m \u001b[0mQubitWaveFunction\u001b[0m\u001b[0;34m:\u001b[0m\u001b[0;34m\u001b[0m\u001b[0;34m\u001b[0m\u001b[0m\n",
      "\u001b[0;32m~/science_git/Tequila/src/tequila/simulators/simulator_qiskit.py\u001b[0m in \u001b[0;36mget_backend\u001b[0;34m(self, device, samples, *args, **kwargs)\u001b[0m\n\u001b[1;32m    231\u001b[0m                     \u001b[0;32mreturn\u001b[0m \u001b[0mqiskit_fakes\u001b[0m\u001b[0;34m[\u001b[0m\u001b[0md\u001b[0m\u001b[0;34m]\u001b[0m\u001b[0;34m(\u001b[0m\u001b[0;34m)\u001b[0m\u001b[0;34m\u001b[0m\u001b[0;34m\u001b[0m\u001b[0m\n\u001b[1;32m    232\u001b[0m                 \u001b[0;32melse\u001b[0m\u001b[0;34m:\u001b[0m\u001b[0;34m\u001b[0m\u001b[0;34m\u001b[0m\u001b[0m\n\u001b[0;32m--> 233\u001b[0;31m                     \u001b[0;32mraise\u001b[0m \u001b[0mTequilaException\u001b[0m\u001b[0;34m(\u001b[0m\u001b[0;34m'Requested backend could not be obtained!'\u001b[0m\u001b[0;34m)\u001b[0m\u001b[0;34m\u001b[0m\u001b[0;34m\u001b[0m\u001b[0m\n\u001b[0m\u001b[1;32m    234\u001b[0m             \u001b[0;32melse\u001b[0m\u001b[0;34m:\u001b[0m\u001b[0;34m\u001b[0m\u001b[0;34m\u001b[0m\u001b[0m\n\u001b[1;32m    235\u001b[0m                 \u001b[0;32mtry\u001b[0m\u001b[0;34m:\u001b[0m\u001b[0;34m\u001b[0m\u001b[0;34m\u001b[0m\u001b[0m\n",
      "\u001b[0;31mTequilaException\u001b[0m: Requested backend could not be obtained!"
     ]
    }
   ],
   "source": [
    "U = tq.gates.Ry(angle=\"a\", target=0)\n",
    "H = tq.paulis.X(0)\n",
    "E = tq.ExpectationValue(H=H, U=U)\n",
    "\n",
    "# simulate the square of the expectation value with a specific set of variables\n",
    "result = tq.simulate(E**2, variables={\"a\":1.0}, samples=1000, backend=\"qiskit\")\n",
    "\n",
    "# run the same thing on one of IBM's quantum computers (check your ibm account for more information and keywords)\n",
    "# note that the names of the computer might have changed\n",
    "# here we use the 1-Qubit 'ibmq_armonk' \n",
    "result = tq.simulate(E**2, variables={\"a\":1.0}, samples=1000, backend=\"qiskit\", device=\"ibmq_armonk\") \n",
    "result = tq.optimizer_scipy.minimize(E**2, initial_values={\"a\":1.0}, samples=1000, backend=\"qiskit\", device='ibmq_armonk')"
   ]
  },
  {
   "cell_type": "markdown",
   "metadata": {},
   "source": [
    "# how can I run emulate a real quantum computer?\n",
    "Emulation is performed similarly to running on real devices. All you need to do is pass down the right string to the 'device' keyword. For qiskit, these are the same as for regular backends, but have'fake_' at the beginning; I.E to emulate 'armonk;, set `device=\"fake_armonk\"`. For PyQuil, this is done by adding '-qvm' to the end of the chosen string, i.e, 'Aspen-8' becomes `device=Aspen-8-qvm'`. For Cirq, only emulation is currently possible; the only string options for cirq are 'foxtail','bristlecone','sycamore', and 'sycamore23'.\n",
    "\n",
    "When emulating, a few things about the real device will be mimicked, principally its native gate set and its connectivities. Emulation will NOT include noisy emulation by default; If you want to emulate noise, pass down the keyword `noise='device'`. Using this option without specifying a device will result in an error.\n",
    "\n",
    "Below, we will emulate pyquil's Aspen 8, with emulated noise. You need pyquil installed for this to work.\n",
    "\n",
    "additionally: when real backends cannot be accessed, emulation will be attempted, with a warning."
   ]
  },
  {
   "cell_type": "code",
   "execution_count": 6,
   "metadata": {},
   "outputs": [
    {
     "name": "stdout",
     "output_type": "stream",
     "text": [
      "sampling from pyquil yielded:  0.72931594\n",
      "sampling from pyquil while emulating Aspen-8 yielded:  0.662596\n",
      "Optimizer: <class 'tequila.optimizers.optimizer_scipy.OptimizerSciPy'> \n",
      "backend         : pyquil\n",
      "backend_options : {}\n",
      "samples         : 1000\n",
      "save_history    : True\n",
      "noise           : None\n",
      "\n",
      "Method          : BFGS\n",
      "Objective       : 1 expectationvalues\n",
      "gradient        : 3 expectationvalues\n",
      "\n",
      "active variables : 1\n",
      "\n",
      "E=+0.69889605  angles= {a: 1.0}  samples= 1000\n",
      "E=+0.00291600  angles= {a: 0.06450396776199341}  samples= 1000\n",
      "E=+0.00270400  angles= {a: -0.07299610341382534}  samples= 1000\n",
      "E=+0.00270400  angles= {a: -0.0670304288095181}  samples= 1000\n",
      "E=+0.00883600  angles= {a: -0.07190446966909138}  samples= 1000\n",
      "E=+0.00270400  angles= {a: -0.07299381043520212}  samples= 1000\n",
      "E=+0.00336400  angles= {a: -0.07299541886967227}  samples= 1000\n",
      "E=+0.01210000  angles= {a: -0.07299610340533144}  samples= 1000\n",
      "E=+0.00270400  angles= {a: -0.07299610341382534}  samples= 1000\n",
      "E=+0.00672400  angles= {a: -0.07299610341382534}  samples= 1000\n",
      "E=+0.00577600  angles= {a: -0.07299610341382534}  samples= 1000\n",
      "E=+0.01081600  angles= {a: -0.0670304288095181}  samples= 1000\n",
      "E=+0.00960400  angles= {a: -0.07001326611167172}  samples= 1000\n",
      "E=+0.01742400  angles= {a: -0.07150468476274853}  samples= 1000\n",
      "E=+0.00774400  angles= {a: -0.07225039408828693}  samples= 1000\n",
      "E=+0.01638400  angles= {a: -0.07262324875105614}  samples= 1000\n",
      "E=+0.00774400  angles= {a: -0.07280967608244074}  samples= 1000\n",
      "E=+0.00250000  angles= {a: -0.07290288974813304}  samples= 1000\n",
      "E=+0.00025600  angles= {a: -0.0728562829152869}  samples= 1000\n",
      "E=+0.00160000  angles= {a: -0.07283297949886382}  samples= 1000\n",
      "E=+0.01081600  angles= {a: -0.07284463120707535}  samples= 1000\n",
      "E=+0.00577600  angles= {a: -0.07285045706118112}  samples= 1000\n",
      "E=+0.00547600  angles= {a: -0.07285336998823401}  samples= 1000\n",
      "Warning: Desired error not necessarily achieved due to precision loss.\n",
      "         Current function value: 0.002704\n",
      "         Iterations: 2\n",
      "         Function evaluations: 23\n",
      "         Gradient evaluations: 13\n",
      "optimizing while emulating Aspen-8 with noise yielded a best energy of:  0.002704000100493431\n"
     ]
    }
   ],
   "source": [
    "U = tq.gates.Ry(angle=\"a\", target=0)\n",
    "H = tq.paulis.X(0)\n",
    "E = tq.ExpectationValue(H=H, U=U)\n",
    "\n",
    "# simulate the square of the expectation value with a specific set of variables\n",
    "result = tq.simulate(E**2, variables={\"a\":1.0}, samples=1000, backend=\"pyquil\")\n",
    "print('sampling from pyquil yielded: ', result)\n",
    "result = tq.simulate(E**2, variables={\"a\":1.0}, samples=1000, backend=\"pyquil\",device='Aspen-8-qvm')\n",
    "print('sampling from pyquil while emulating Aspen-8 yielded: ', result)\n",
    "result = tq.optimizer_scipy.minimize(E**2, initial_values={\"a\":1.0}, samples=1000,\n",
    "                                    backend='pyquil', device=\"Aspen-8-qvm\", \n",
    "                                    noise='device')\n",
    "print('optimizing while emulating Aspen-8 with noise yielded a best energy of: ', result.energy)"
   ]
  },
  {
   "cell_type": "markdown",
   "metadata": {},
   "source": [
    "# Can I compile Objectives into different backends?\n",
    "Yes you can. Tequila will print a warning if this happens. Warnings can be ignored by filtering them out (see the python warnings documentation)  \n",
    "\n",
    "If a compiled circuit is used as input to compile then tequila will re-compile the circuit to the new backend (it it differs from the previous one)  \n",
    "\n",
    "If a compiled objective is used as input to compile then tequila will only compile non-compiled expectationvalues into the different backend. Already compiled expectation values will remain untouched  \n",
    "\n",
    "Note that you need at least two different backends for the following cell to execute.  \n",
    "Just change the key to whatever you have installed."
   ]
  },
  {
   "cell_type": "code",
   "execution_count": null,
   "metadata": {},
   "outputs": [],
   "source": [
    "backend1 = \"qulacs\"\n",
    "backend2 = \"cirq\"\n",
    "\n",
    "U = tq.gates.X(target=[0,1])\n",
    "print(\"Example Circuit: \", U)\n",
    "compiled_1 = tq.compile(U, backend=backend1)\n",
    "compiled_2 = tq.compile(compiled_1, backend=backend2)\n",
    "print(\"Circuit compiled to {} -> \".format(backend1), compiled_1)\n",
    "print(\"Circuit compiled to {} -> \".format(backend1), compiled_1)\n",
    "\n",
    "H = tq.paulis.X(0)*tq.paulis.Y(1) + tq.paulis.X([0,1])\n",
    "print(\"\\nmake objective with H = \", H)\n",
    "objective = tq.ExpectationValue(H=H, U=U)\n",
    "compiled_1 = tq.compile(objective, backend=backend1)\n",
    "\n",
    "print(\"\\nExpectationValues of objective 1:\")\n",
    "print(compiled_1)\n",
    "    \n",
    "objective2 = compiled_1 + objective # Its recommended to avoid those hybrids, but in principle it works\n",
    "\n",
    "print(\"\\nExpectationValues of partly compiled objective:\")\n",
    "print(objective2)\n",
    "    \n",
    "compiled_2 = tq.compile(objective2, backend=backend2)\n",
    "print(\"\\nExpectationValues of hybdrid compiled objective:\")\n",
    "print(compiled_2)\n",
    "\n",
    "\n"
   ]
  },
  {
   "cell_type": "markdown",
   "metadata": {},
   "source": [
    "# How do I transform Measurements into Hamiltonians?\n",
    "\n",
    "We can not answer this question in general, but we can try to give a small example here.  \n",
    "\n",
    "Assume you have a quantum circuit with $4$ Qubits and you are measuring Qubit $0$ and $2$. \n",
    "You define your cost function in the following way:\n",
    "\n",
    "$$\n",
    "L(AB) = A + B, \\qquad A,B \\in \\left\\{ 0,1 \\right\\}  \n",
    "$$\n",
    "\n",
    "meaning you accumulate the number of ones measured in your circuit.  \n",
    "\n",
    "The corresponding expectationvalue would be  \n",
    "\n",
    "$$\n",
    "L = \\langle \\Psi \\rvert H \\lvert \\Psi \\rangle \\qquad H = 1 - \\frac{1}{2}\\left(Z(0) + Z(1)\\right) \n",
    "$$\n",
    "\n",
    "The Hamiltonian could also be written as\n",
    "\n",
    "$$\n",
    "H = 2\\lvert 11 \\rangle \\langle 11 \\rvert + \\lvert 10 \\rangle \\langle 10 \\rvert + \\lvert 01 \\rangle \\langle 01 \\rvert\n",
    "$$\n",
    "\n",
    "Tequila provides the convenience function `tq.gates.Projector` to initialize Hamiltonians like that\n"
   ]
  },
  {
   "cell_type": "code",
   "execution_count": null,
   "metadata": {},
   "outputs": [],
   "source": [
    "2*tq.paulis.Projector(\"|11>\") + tq.paulis.Projector(\"|01>\") + tq.paulis.Projector(\"|10>\")"
   ]
  },
  {
   "cell_type": "markdown",
   "metadata": {},
   "source": [
    "The projector can also be initialized with more structured `QubitWaveFunction`s which can itself be initialized from array or string.  \n",
    "Here are some examples"
   ]
  },
  {
   "cell_type": "code",
   "execution_count": null,
   "metadata": {},
   "outputs": [],
   "source": [
    "wfn = tq.QubitWaveFunction.from_string(\"1.0*|00> + 1.0*|11>\")\n",
    "wfnx = tq.QubitWaveFunction.from_array(arr=[1.0, 0.0, 0.0, 1.0])\n",
    "print(wfn == wfnx)\n",
    "wfn = wfn.normalize()\n",
    "print(wfn)\n",
    "\n",
    "P = tq.paulis.Projector(wfn=wfn)\n",
    "print(\"P = \", P)"
   ]
  },
  {
   "cell_type": "markdown",
   "metadata": {},
   "source": [
    "Apart from `Projector` there is also `KetBra` which intialized more general operators like\n",
    "$$\n",
    "\\lvert \\Psi \\rangle \\langle \\Phi \\rvert\n",
    "$$\n",
    "\n",
    "Keep in mind that those are not hermitian.  \n",
    "But they can be split up into their hermitian and anti hermitian part where both can then be used as hamiltonians for expectationvalues.\n",
    "\n",
    "If the `hermitian = True` key is set, the function returns the hermitian version of the operator (which is the same as the hermitian part of the old operator)\n",
    "\n",
    "$$\n",
    "\\frac{1}{2}\\left(\\lvert \\Psi \\rangle \\langle \\Phi \\rvert + \\lvert \\Phi \\rangle \\langle \\Psi \\rvert \\right)\n",
    "$$"
   ]
  },
  {
   "cell_type": "code",
   "execution_count": null,
   "metadata": {},
   "outputs": [],
   "source": [
    "wfn1 = tq.QubitWaveFunction.from_string(\"1.0*|00> + 1.0*|11>\").normalize()\n",
    "\n",
    "op = tq.paulis.KetBra(bra=wfn1, ket=\"|00>\")\n",
    "\n",
    "H1, H2 = op.split()\n",
    "\n",
    "print(\"operator=\", op)\n",
    "print(\"hermitian part      = \", H1)\n",
    "print(\"anti-hermitian part =\", H2)\n",
    "\n",
    "H = tq.paulis.KetBra(bra=wfn1, ket=\"|00>\", hermitian=True)\n",
    "print(\"hermitianized operator = \", H)\n"
   ]
  },
  {
   "cell_type": "markdown",
   "metadata": {},
   "source": [
    "# Can I do basic operations on wavefunctions and operators without quantum backends?\n",
    "\n",
    "In principle yes. But keep in mind that tequila was not made for this.  \n",
    "However, some of those operations might come in handy for debugging or small examples.  \n",
    "\n",
    "You can not execute circuits without a simulator since they are just abstract data types (no matrices or anything). Tequila has however its own small debug simulator `backend = symbolic` but there is no reason to use it if you have any other quantum backend installed.\n",
    "\n",
    "Hamiltonians can be converted to matrices.\n",
    "\n",
    "We give a few examples here"
   ]
  },
  {
   "cell_type": "code",
   "execution_count": null,
   "metadata": {},
   "outputs": [],
   "source": [
    "wfn = tq.QubitWaveFunction.from_string(\"1.0*|0> + 1.0*|1>\").normalize()\n",
    "H = 1.0/numpy.sqrt(2.0)*(tq.paulis.Z(0) + tq.paulis.X(0))\n",
    "wfn2 = wfn.apply_qubitoperator(H).simplify()\n",
    "\n",
    "print(\"|wfn>  = \", wfn)\n",
    "print(\"H      = \", H)\n",
    "print(\"H|wfn> = \", wfn2)"
   ]
  },
  {
   "cell_type": "code",
   "execution_count": null,
   "metadata": {},
   "outputs": [],
   "source": [
    "wfn1 = tq.QubitWaveFunction.from_string(\"1.0*|0> + 1.0*|1>\").normalize()\n",
    "wfn2 = tq.QubitWaveFunction.from_string(\"1.0*|0> - 1.0*|1>\").normalize()\n",
    "print(\"<wfn1|wfn2> = \", wfn1.inner(wfn2))"
   ]
  },
  {
   "cell_type": "code",
   "execution_count": null,
   "metadata": {},
   "outputs": [],
   "source": [
    "H = 1.0/numpy.sqrt(2.0)*(tq.paulis.Z(0) + tq.paulis.X(0))\n",
    "print(H.to_matrix())"
   ]
  },
  {
   "cell_type": "markdown",
   "metadata": {},
   "source": [
    "# Can I import an Hamiltonian from OpenFermion?\n",
    "\n",
    "Yes! OpernFermion is currently tequilas backend for Hamiltonians, which makes importing from it straight forward.\n",
    "You just need to wrap the OpenFermion QubitOperator into tequilas QubitHamiltonian.\n",
    "\n",
    "We show a few examples"
   ]
  },
  {
   "cell_type": "code",
   "execution_count": null,
   "metadata": {},
   "outputs": [],
   "source": [
    "from openfermion import QubitOperator\n",
    "\n",
    "# get OpenFermion QubitOperator from tequila QubitHamiltonian\n",
    "H = tq.paulis.X(0)\n",
    "of_operator = H.to_openfermion()\n",
    "\n",
    "print(\"{} = {}\".format(type(H), H))\n",
    "print(\"{} = {}\".format(type(of_operator), of_operator))\n",
    "\n",
    "# init tequila QubitHamiltonian with OpenFermion QubitOperator\n",
    "H = tq.QubitHamiltonian.from_openfermion(of_operator)\n",
    "print(\"{} = {}\".format(type(H), H))\n",
    "\n",
    "# initialization from file os often read in the string form\n",
    "of_string = str(of_operator)\n",
    "tq_string = str(H)\n",
    "\n",
    "print(of_string)\n",
    "print(tq_string)\n",
    "\n",
    "H = tq.QubitHamiltonian.from_string(string=of_string, openfermion_format=True)\n",
    "print(H)\n",
    "H = tq.QubitHamiltonian.from_string(string=tq_string, openfermion_format=False)\n",
    "print(H)"
   ]
  },
  {
   "cell_type": "markdown",
   "metadata": {},
   "source": [
    "# Can I compile into a regular function instead of one which takes dictionaries?\n",
    "\n",
    "Not recommended but yes. The order of the function arguments is the order you get from `extract_variables`"
   ]
  },
  {
   "cell_type": "code",
   "execution_count": null,
   "metadata": {},
   "outputs": [],
   "source": [
    "U = tq.gates.Ry(angle=\"a\", target=0)\n",
    "U += tq.gates.X(power = \"b\", target=1)\n",
    "H = tq.QubitHamiltonian.from_string(\"X(0)Z(1)\")\n",
    "E = tq.ExpectationValue(H=H, U=U)\n",
    "\n",
    "f = tq.compile_to_function(E)\n",
    "\n",
    "print(\"order is : \", E.extract_variables())\n",
    "print(f(0.5, 1.0))\n",
    "print(tq.simulate(E, variables={\"a\":0.5, \"b\":1.0}))\n"
   ]
  },
  {
   "cell_type": "markdown",
   "metadata": {},
   "source": [
    "If you also want to fix the samples and other entries to your compiled objective you can build wrappers"
   ]
  },
  {
   "cell_type": "code",
   "execution_count": null,
   "metadata": {},
   "outputs": [],
   "source": [
    "def mywrapper(compiled_obj, samples):\n",
    "    return lambda *x: compiled_obj(*x, samples=samples)\n",
    "\n",
    "wrapped = mywrapper(f, samples=100)\n",
    "\n",
    "# don't expect same results, since samples are taken individually\n",
    "print(wrapped(1.0, 0.5)) # always takes 100 samples\n",
    "print(f(1.0, 0.5, samples=100)) # samples need to be given\n",
    "print(f(1.0, 0.5, samples=1000)) # but sampling rate can be changed\n",
    "print(f(1.0, 0.5)) # you can go back to full simulation which you cannot with the wrapped function"
   ]
  },
  {
   "cell_type": "markdown",
   "metadata": {},
   "source": [
    "# How do numerical gradients work?\n",
    "\n",
    "Yes this is possible by passing for example `gradient={'method':'2-point', 'stepsize': 1.e-4}` to the `tq.minimize` function.  \n",
    "\n",
    "The default is a central 2-point derivative stencil where `h` is the stepsize:\n",
    "$$\\displaystyle\n",
    "\\frac{\\partial f}{\\partial a} = \\frac{f(a+\\frac{h}{2}) - f(a-\\frac{h}{2})} {h}\n",
    "$$\n",
    "\n",
    "\n",
    "Other methods are:\n",
    "`2-point-forward`: Forward derivative stencil:\n",
    "\n",
    "$$\\displaystyle\n",
    "\\frac{\\partial f}{\\partial a} = \\frac{f(a+h) - f(a)} {h}\n",
    "$$\n",
    "\n",
    "\n",
    "`2-point-backward`: Backward derivative stencil:\n",
    "\n",
    "$$\\displaystyle\n",
    "\\frac{\\partial f}{\\partial a} = \\frac{f(a) - f(a-h)} {h}\n",
    "$$\n",
    "\n",
    "\n",
    "You can also use your own numerical derivative stencil by passing a callable function as `method`.  \n",
    "The function should have the signature which is given in the example below.\n",
    "\n",
    "Here is an example:"
   ]
  },
  {
   "cell_type": "code",
   "execution_count": null,
   "metadata": {},
   "outputs": [],
   "source": [
    "import tequila as tq\n",
    "# form a simple example objective\n",
    "H = tq.paulis.X(0)\n",
    "U = tq.gates.Ry(angle=\"a\", target=0)\n",
    "E = tq.ExpectationValue(U=U, H=H)\n",
    "\n",
    "# make it more interesting by using analytical gradients for the objective\n",
    "# and numerical gradients to optimize it\n",
    "\n",
    "objective = tq.grad(E, 'a')**2 # integer multiples of pi/2 are minima\n",
    "\n",
    "# start from the same point in all examples\n",
    "initial_values = {'a': 2.3}"
   ]
  },
  {
   "cell_type": "code",
   "execution_count": null,
   "metadata": {},
   "outputs": [],
   "source": [
    "# optimize with analytical derivatives\n",
    "result = tq.minimize(objective=objective, method=\"bfgs\", initial_values=initial_values)\n",
    "#result.history.plot(\"energies\")\n",
    "#result.history.plot(\"gradients\")\n",
    "\n",
    "# optimize with 2-point stencil\n",
    "result = tq.minimize(objective=E, method=\"bfgs\", gradient={'method': '2-point', 'stepsize':1.e-4}, initial_values=initial_values)\n",
    "#result.history.plot(\"energies\")\n",
    "#result.history.plot(\"gradients\")\n",
    "\n",
    "# optimize with custom stencil\n",
    "# here this is the same as the default\n",
    "import copy\n",
    "def mymethod(obj, angles, key, step, *args, **kwargs):\n",
    "    left = copy.deepcopy(angles)\n",
    "    left[key] += step / 2\n",
    "    right = copy.deepcopy(angles)\n",
    "    right[key] -= step / 2\n",
    "    return 1.0 / step * (obj(left, *args, **kwargs) - obj(right, *args, **kwargs))\n",
    "\n",
    "result = tq.minimize(objective=E, method=\"bfgs\", gradient={'method': mymethod, 'stepsize':1.e-4}, initial_values=initial_values)\n",
    "#result.history.plot(\"energies\")\n",
    "#result.history.plot(\"gradients\")\n",
    "\n",
    "# optimize with a scipy method and use scipys 2-point\n",
    "# the scipy protocol will have more function evaluations and less gradient evaluations for some methods\n",
    "# the stepsize in scipy has to be passed with the `method_options` dictionary\n",
    "# with the keyword `eps`\n",
    "result = tq.minimize(objective=E, method=\"bfgs\", gradient='2-point', method_options={'eps':1.e-4}, initial_values=initial_values)\n",
    "#result.history.plot(\"energies\")\n",
    "\n"
   ]
  },
  {
   "cell_type": "markdown",
   "metadata": {},
   "source": [
    "# Can I use the numerical gradient protocols from SciPy?\n",
    "\n",
    "Yes you can for all scipy methods by passing `gradient='2-point'` to `tq.minimize`.  \n",
    "See the scipy documentation for the stepsize and more options which can be passed with `method_options` dictionary where the key for the stepsize is usually `eps`. Note that not all scipy methods support numerical gradients,but cyou can always fall back to tequilas numerical gradients.\n",
    "See the previous cell for an example."
   ]
  },
  {
   "cell_type": "code",
   "execution_count": null,
   "metadata": {},
   "outputs": [],
   "source": []
  }
 ],
 "metadata": {
  "kernelspec": {
   "display_name": "Python 3",
   "language": "python",
   "name": "python3"
  },
  "language_info": {
   "codemirror_mode": {
    "name": "ipython",
    "version": 3
   },
   "file_extension": ".py",
   "mimetype": "text/x-python",
   "name": "python",
   "nbconvert_exporter": "python",
   "pygments_lexer": "ipython3",
   "version": "3.6.10"
  }
 },
 "nbformat": 4,
 "nbformat_minor": 2
}
